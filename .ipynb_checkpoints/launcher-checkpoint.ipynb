{
 "cells": [
  {
   "cell_type": "code",
   "execution_count": null,
   "id": "6641224f",
   "metadata": {},
   "outputs": [],
   "source": [
    "import subprocess\n",
    "import sys\n",
    "\n",
    "def run_app(script_name):\n",
    "    # Run the application as a separate process\n",
    "    subprocess.Popen([sys.executable, script_name])\n",
    "\n",
    "if __name__ == \"__main__\":\n",
    "    # Run both applications\n",
    "    run_app('insert_data_app.py')\n",
    "    run_app('facial_recog_app.py')\n"
   ]
  }
 ],
 "metadata": {
  "kernelspec": {
   "display_name": "Python 3 (ipykernel)",
   "language": "python",
   "name": "python3"
  },
  "language_info": {
   "codemirror_mode": {
    "name": "ipython",
    "version": 3
   },
   "file_extension": ".py",
   "mimetype": "text/x-python",
   "name": "python",
   "nbconvert_exporter": "python",
   "pygments_lexer": "ipython3",
   "version": "3.9.19"
  }
 },
 "nbformat": 4,
 "nbformat_minor": 5
}
