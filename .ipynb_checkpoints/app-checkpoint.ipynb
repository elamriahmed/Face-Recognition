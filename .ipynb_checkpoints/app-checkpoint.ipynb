{
 "cells": [
  {
   "cell_type": "code",
   "execution_count": null,
   "id": "08ee9caf",
   "metadata": {},
   "outputs": [],
   "source": [
    "from fastapi import FastAPI, File, UploadFile\n",
    "from pydantic import BaseModel\n",
    "import insert_data_app\n",
    "import facial_recog_app\n",
    "\n",
    "app = FastAPI()\n",
    "\n",
    "class Data(BaseModel):\n",
    "    name: str\n",
    "    family_name: str\n",
    "    id_card_number: str\n",
    "    passport_number: str\n",
    "    issuing_country: str\n",
    "    nationality: str\n",
    "    sex: str\n",
    "    date_of_birth: str\n",
    "    expiration_date: str\n",
    "    phone_number: str\n",
    "\n",
    "@app.post(\"/insert_data/\")\n",
    "async def insert_data(data: Data):\n",
    "    result = insert_data_app.insert_data(\n",
    "        data.name, data.family_name, data.id_card_number,\n",
    "        data.passport_number, data.issuing_country, data.nationality,\n",
    "        data.sex, data.date_of_birth, data.expiration_date, data.phone_number\n",
    "    )\n",
    "    return {\"status\": \"success\", \"result\": result}\n",
    "\n",
    "@app.post(\"/facial_recognition/\")\n",
    "async def facial_recognition(file: UploadFile = File(...)):\n",
    "    with open(\"temp_image.jpg\", \"wb\") as image:\n",
    "        content = await file.read()\n",
    "        image.write(content)\n",
    "    \n",
    "    result = facial_recog_app.recognize_faces(\"temp_image.jpg\")\n",
    "    return {\"status\": \"success\", \"result\": result}\n",
    "\n",
    "if __name__ == \"__main__\":\n",
    "    import uvicorn\n",
    "    uvicorn.run(app, host=\"0.0.0.0\", port=8000)\n"
   ]
  }
 ],
 "metadata": {
  "kernelspec": {
   "display_name": "Python 3 (ipykernel)",
   "language": "python",
   "name": "python3"
  },
  "language_info": {
   "codemirror_mode": {
    "name": "ipython",
    "version": 3
   },
   "file_extension": ".py",
   "mimetype": "text/x-python",
   "name": "python",
   "nbconvert_exporter": "python",
   "pygments_lexer": "ipython3",
   "version": "3.9.19"
  }
 },
 "nbformat": 4,
 "nbformat_minor": 5
}
