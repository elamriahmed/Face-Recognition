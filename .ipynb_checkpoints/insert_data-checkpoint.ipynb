{
 "cells": [
  {
   "cell_type": "code",
   "execution_count": null,
   "id": "0edef49c",
   "metadata": {},
   "outputs": [],
   "source": [
    "from pymongo import MongoClient\n",
    "import cv2\n",
    "import dlib\n",
    "import numpy as np\n",
    "from imutils import face_utils\n",
    "from PyQt5.QtWidgets import QApplication, QWidget, QPushButton, QVBoxLayout, QFileDialog, QLabel\n",
    "import sys\n",
    "from PIL import Image\n",
    "import io\n"
   ]
  },
  {
   "cell_type": "code",
   "execution_count": null,
   "id": "a5e86f8d",
   "metadata": {},
   "outputs": [],
   "source": [
    "def create_database():\n",
    "    client = MongoClient('mongodb://localhost:27017/')\n",
    "    db = client['face_database']\n",
    "    collection = db['faces']\n",
    "    print('Database and collection created.')\n",
    "    client.close()\n",
    "\n",
    "create_database()\n"
   ]
  },
  {
   "cell_type": "code",
   "execution_count": null,
   "id": "561f575b",
   "metadata": {},
   "outputs": [],
   "source": [
    "from pymongo import MongoClient\n",
    "import cv2\n",
    "\n",
    "def create_database():\n",
    "    client = MongoClient('mongodb://localhost:27017/')\n",
    "    db = client['face_database']\n",
    "    collection = db['faces']\n",
    "    print('Database and collection created.')\n",
    "    client.close()\n",
    "\n",
    "def insert_face(name, family_name, id_card, image_path):\n",
    "    client = MongoClient('mongodb://localhost:27017/')\n",
    "    db = client['face_database']\n",
    "    collection = db['faces']\n",
    "    \n",
    "    # Read the image\n",
    "    image = cv2.imread(image_path)\n",
    "    if image is None:\n",
    "        print(f\"[ERROR] Unable to load image {image_path}\")\n",
    "        return\n",
    "    \n",
    "    # Encode the image as bytes\n",
    "    _, img_encoded = cv2.imencode('.jpg', image)\n",
    "    image_blob = img_encoded.tobytes()\n",
    "    \n",
    "    # Insert data into the database\n",
    "    collection.insert_one({\n",
    "        'name': name,\n",
    "        'family_name': family_name,\n",
    "        'id_card': id_card,\n",
    "        'image': image_blob\n",
    "    })\n",
    "    \n",
    "    client.close()\n",
    "    print(f'[INFO] {name} {family_name} added to database.')\n",
    "\n",
    "# Create the database and collection\n",
    "create_database()\n",
    "# Insert sample data\n",
    "insert_face('Ahmed', 'ELAMRI', '09525179', 'C:/Users/ROG/Desktop/pass.jpg')\n"
   ]
  }
 ],
 "metadata": {
  "kernelspec": {
   "display_name": "Python 3 (ipykernel)",
   "language": "python",
   "name": "python3"
  },
  "language_info": {
   "codemirror_mode": {
    "name": "ipython",
    "version": 3
   },
   "file_extension": ".py",
   "mimetype": "text/x-python",
   "name": "python",
   "nbconvert_exporter": "python",
   "pygments_lexer": "ipython3",
   "version": "3.9.19"
  }
 },
 "nbformat": 4,
 "nbformat_minor": 5
}
